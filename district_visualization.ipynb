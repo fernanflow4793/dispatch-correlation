{
 "cells": [
  {
   "cell_type": "code",
   "execution_count": 1,
   "metadata": {},
   "outputs": [],
   "source": [
    "import numpy as np\n",
    "import pandas as pd\n",
    "import matplotlib.pyplot as plt\n",
    "import geopandas as gpd\n",
    "import descartes"
   ]
  },
  {
   "cell_type": "code",
   "execution_count": 2,
   "metadata": {},
   "outputs": [
    {
     "data": {
      "text/html": [
       "<div>\n",
       "<style scoped>\n",
       "    .dataframe tbody tr th:only-of-type {\n",
       "        vertical-align: middle;\n",
       "    }\n",
       "\n",
       "    .dataframe tbody tr th {\n",
       "        vertical-align: top;\n",
       "    }\n",
       "\n",
       "    .dataframe thead th {\n",
       "        text-align: right;\n",
       "    }\n",
       "</style>\n",
       "<table border=\"1\" class=\"dataframe\">\n",
       "  <thead>\n",
       "    <tr style=\"text-align: right;\">\n",
       "      <th></th>\n",
       "      <th>dist_label</th>\n",
       "      <th>dist_num</th>\n",
       "      <th>geometry</th>\n",
       "    </tr>\n",
       "  </thead>\n",
       "  <tbody>\n",
       "    <tr>\n",
       "      <th>0</th>\n",
       "      <td>17TH</td>\n",
       "      <td>17</td>\n",
       "      <td>POLYGON ((-87.71067 41.99737, -87.71067 41.997...</td>\n",
       "    </tr>\n",
       "    <tr>\n",
       "      <th>1</th>\n",
       "      <td>20TH</td>\n",
       "      <td>20</td>\n",
       "      <td>POLYGON ((-87.66029 41.99092, -87.66029 41.990...</td>\n",
       "    </tr>\n",
       "    <tr>\n",
       "      <th>2</th>\n",
       "      <td>31ST</td>\n",
       "      <td>31</td>\n",
       "      <td>POLYGON ((-87.82818 41.98384, -87.82816 41.983...</td>\n",
       "    </tr>\n",
       "    <tr>\n",
       "      <th>3</th>\n",
       "      <td>31ST</td>\n",
       "      <td>31</td>\n",
       "      <td>POLYGON ((-87.83365 41.97535, -87.83366 41.974...</td>\n",
       "    </tr>\n",
       "    <tr>\n",
       "      <th>4</th>\n",
       "      <td>19TH</td>\n",
       "      <td>19</td>\n",
       "      <td>POLYGON ((-87.64492 41.96973, -87.64431 41.969...</td>\n",
       "    </tr>\n",
       "  </tbody>\n",
       "</table>\n",
       "</div>"
      ],
      "text/plain": [
       "  dist_label dist_num                                           geometry\n",
       "0       17TH       17  POLYGON ((-87.71067 41.99737, -87.71067 41.997...\n",
       "1       20TH       20  POLYGON ((-87.66029 41.99092, -87.66029 41.990...\n",
       "2       31ST       31  POLYGON ((-87.82818 41.98384, -87.82816 41.983...\n",
       "3       31ST       31  POLYGON ((-87.83365 41.97535, -87.83366 41.974...\n",
       "4       19TH       19  POLYGON ((-87.64492 41.96973, -87.64431 41.969..."
      ]
     },
     "execution_count": 2,
     "metadata": {},
     "output_type": "execute_result"
    }
   ],
   "source": [
    "# set the filepath and load in a shapefile\n",
    "fp = \"geo_export_fe53e91c-1d1a-470b-86d5-341e72617479.shp\"\n",
    "map_df = gpd.read_file(fp)\n",
    "map_df.head()"
   ]
  },
  {
   "cell_type": "code",
   "execution_count": 3,
   "metadata": {},
   "outputs": [
    {
     "data": {
      "text/plain": [
       "0     3.0\n",
       "1     3.0\n",
       "2     1.0\n",
       "3    17.0\n",
       "4    25.0\n",
       "Name: District, dtype: float64"
      ]
     },
     "execution_count": 3,
     "metadata": {},
     "output_type": "execute_result"
    }
   ],
   "source": [
    "# Read in the cleaned data\n",
    "df_crimes = pd.read_csv(\"Chicago_Crime_2013.csv\")\n",
    "df_dispatch = pd.read_csv(\"cleaned_dispatch_time.csv\")\n",
    "df_crimes['District'].head()"
   ]
  },
  {
   "cell_type": "code",
   "execution_count": 4,
   "metadata": {},
   "outputs": [
    {
     "data": {
      "text/html": [
       "<div>\n",
       "<style scoped>\n",
       "    .dataframe tbody tr th:only-of-type {\n",
       "        vertical-align: middle;\n",
       "    }\n",
       "\n",
       "    .dataframe tbody tr th {\n",
       "        vertical-align: top;\n",
       "    }\n",
       "\n",
       "    .dataframe thead th {\n",
       "        text-align: right;\n",
       "    }\n",
       "</style>\n",
       "<table border=\"1\" class=\"dataframe\">\n",
       "  <thead>\n",
       "    <tr style=\"text-align: right;\">\n",
       "      <th></th>\n",
       "      <th>dist_num</th>\n",
       "      <th>num_crimes</th>\n",
       "      <th>white_per</th>\n",
       "      <th>dispatch_time</th>\n",
       "      <th>num_arrests</th>\n",
       "    </tr>\n",
       "  </thead>\n",
       "  <tbody>\n",
       "    <tr>\n",
       "      <th>0</th>\n",
       "      <td>1</td>\n",
       "      <td>4328</td>\n",
       "      <td>52</td>\n",
       "      <td>143</td>\n",
       "      <td>1198</td>\n",
       "    </tr>\n",
       "    <tr>\n",
       "      <th>1</th>\n",
       "      <td>2</td>\n",
       "      <td>4820</td>\n",
       "      <td>18</td>\n",
       "      <td>185</td>\n",
       "      <td>1290</td>\n",
       "    </tr>\n",
       "    <tr>\n",
       "      <th>2</th>\n",
       "      <td>3</td>\n",
       "      <td>5907</td>\n",
       "      <td>2</td>\n",
       "      <td>585</td>\n",
       "      <td>1540</td>\n",
       "    </tr>\n",
       "    <tr>\n",
       "      <th>3</th>\n",
       "      <td>4</td>\n",
       "      <td>6540</td>\n",
       "      <td>8</td>\n",
       "      <td>389</td>\n",
       "      <td>1503</td>\n",
       "    </tr>\n",
       "    <tr>\n",
       "      <th>4</th>\n",
       "      <td>5</td>\n",
       "      <td>4879</td>\n",
       "      <td>1</td>\n",
       "      <td>375</td>\n",
       "      <td>1355</td>\n",
       "    </tr>\n",
       "  </tbody>\n",
       "</table>\n",
       "</div>"
      ],
      "text/plain": [
       "   dist_num  num_crimes  white_per  dispatch_time  num_arrests\n",
       "0         1        4328         52            143         1198\n",
       "1         2        4820         18            185         1290\n",
       "2         3        5907          2            585         1540\n",
       "3         4        6540          8            389         1503\n",
       "4         5        4879          1            375         1355"
      ]
     },
     "execution_count": 4,
     "metadata": {},
     "output_type": "execute_result"
    }
   ],
   "source": [
    "# Create a new dataframe df_districts that contains number of crimes and number of arrests per district\n",
    "df_districts = pd.DataFrame(columns=[\"dist_num\", \"num_crimes\", 'white_per', 'dispatch_time'])\n",
    "df_districts['dist_num'] = list(range(1, 26))\n",
    "df_districts['num_crimes'] = 0\n",
    "df_districts['num_arrests'] = 0\n",
    "df_districts['white_per'] = 0\n",
    "df_districts['dispatch_time'] = 0\n",
    "df_districts = df_districts.set_index('dist_num')\n",
    "\n",
    "for index, row in df_crimes.iterrows():\n",
    "    district_number = int(row['District'])\n",
    "    df_districts.at[district_number, 'num_crimes'] += 1\n",
    "    \n",
    "    if row['Arrest'] == True:\n",
    "        df_districts.at[district_number, 'num_arrests'] += 1\n",
    "        \n",
    "for index, row in df_dispatch.iterrows():\n",
    "    district_number = int(row['No.'])\n",
    "    avg_dispatch_time = int((row['Jun'] + row['Jul'] + row['Aug'] + row['Sep'])/4)\n",
    "    white_percentage = int(row['White %'])\n",
    "    \n",
    "    df_districts.at[district_number, 'white_per'] = white_percentage\n",
    "    df_districts.at[district_number, 'dispatch_time'] = avg_dispatch_time\n",
    "    \n",
    "        \n",
    "    \n",
    "df_districts = df_districts.reset_index()\n",
    "df_districts.head()"
   ]
  },
  {
   "cell_type": "code",
   "execution_count": null,
   "metadata": {},
   "outputs": [],
   "source": [
    "# Merge the geoframe and our dataframe\n",
    "map_df['dist_num'] = map_df['dist_num'].astype('int64')\n",
    "merged = map_df.merge(df_districts)"
   ]
  },
  {
   "cell_type": "code",
   "execution_count": null,
   "metadata": {},
   "outputs": [],
   "source": [
    "variable = 'num_crimes'\n",
    "# set the range for the choropleth\n",
    "vmin, vmax = 1800, 8000\n",
    "# create figure and axes for Matplotlib\n",
    "fig, ax = plt.subplots(1, figsize=(20, 12))\n",
    "merged.plot(column=variable, cmap='Reds', linewidth=0.8, ax=ax, edgecolor='0.8')\n",
    "ax.axis('off')\n",
    "ax.set_title('Number of Chicago Crimes per District', fontdict={'fontsize': '25', 'fontweight' : '3'})\n",
    "# Create colorbar as a legend\n",
    "sm = plt.cm.ScalarMappable(cmap='Reds', norm=plt.Normalize(vmin=vmin, vmax=vmax))\n",
    "# empty array for the data range\n",
    "sm._A = []\n",
    "# add the colorbar to the figure\n",
    "cbar = fig.colorbar(sm)\n",
    "fig.savefig(\"crimes.png\", dpi=300)"
   ]
  },
  {
   "cell_type": "code",
   "execution_count": null,
   "metadata": {},
   "outputs": [],
   "source": [
    "variable = 'num_arrests'\n",
    "# set the range for the choropleth\n",
    "vmin, vmax = 300, 2000\n",
    "# create figure and axes for Matplotlib\n",
    "fig, ax = plt.subplots(1, figsize=(20, 12))\n",
    "merged.plot(column=variable, cmap='Greys', linewidth=0.8, ax=ax, edgecolor='0.8')\n",
    "ax.axis('off')\n",
    "ax.set_title('Number of Chicago Arrests per District', fontdict={'fontsize': '25', 'fontweight' : '3'})\n",
    "# Create colorbar as a legend\n",
    "sm = plt.cm.ScalarMappable(cmap='Greys', norm=plt.Normalize(vmin=vmin, vmax=vmax))\n",
    "# empty array for the data range\n",
    "sm._A = []\n",
    "# add the colorbar to the figure\n",
    "cbar = fig.colorbar(sm)\n",
    "fig.savefig(\"arrests.png\", dpi=300)"
   ]
  },
  {
   "cell_type": "code",
   "execution_count": null,
   "metadata": {},
   "outputs": [],
   "source": [
    "variable = 'white_per'\n",
    "# set the range for the choropleth\n",
    "vmin, vmax = 0, 100\n",
    "# create figure and axes for Matplotlib\n",
    "fig, ax = plt.subplots(1, figsize=(20, 12))\n",
    "merged.plot(column=variable, cmap='Greens', linewidth=0.8, ax=ax, edgecolor='0.8')\n",
    "ax.axis('off')\n",
    "ax.set_title('White Percentage per Chicago Distract', fontdict={'fontsize': '25', 'fontweight' : '3'})\n",
    "# Create colorbar as a legend\n",
    "sm = plt.cm.ScalarMappable(cmap='Greens', norm=plt.Normalize(vmin=vmin, vmax=vmax))\n",
    "# empty array for the data range\n",
    "sm._A = []\n",
    "# add the colorbar to the figure\n",
    "cbar = fig.colorbar(sm)\n",
    "fig.savefig(\"white_per.png\", dpi=300)"
   ]
  },
  {
   "cell_type": "code",
   "execution_count": null,
   "metadata": {},
   "outputs": [],
   "source": [
    "variable = 'dispatch_time'\n",
    "# set the range for the choropleth\n",
    "vmin, vmax = 100, 600\n",
    "# create figure and axes for Matplotlib\n",
    "fig, ax = plt.subplots(1, figsize=(20, 12))\n",
    "merged.plot(column=variable, cmap='Blues', linewidth=0.8, ax=ax, edgecolor='0.8')\n",
    "ax.axis('off')\n",
    "ax.set_title('Police Dispatch Time per Chicago Distract', fontdict={'fontsize': '25', 'fontweight' : '3'})\n",
    "# Create colorbar as a legend\n",
    "sm = plt.cm.ScalarMappable(cmap='Blues', norm=plt.Normalize(vmin=vmin, vmax=vmax))\n",
    "# empty array for the data range\n",
    "sm._A = []\n",
    "# add the colorbar to the figure\n",
    "cbar = fig.colorbar(sm)\n",
    "fig.savefig(\"dispatch.png\", dpi=300)"
   ]
  },
  {
   "cell_type": "code",
   "execution_count": null,
   "metadata": {},
   "outputs": [],
   "source": [
    "df_districts.head()"
   ]
  },
  {
   "cell_type": "code",
   "execution_count": null,
   "metadata": {},
   "outputs": [],
   "source": []
  }
 ],
 "metadata": {
  "kernelspec": {
   "display_name": "Python 3",
   "language": "python",
   "name": "python3"
  },
  "language_info": {
   "codemirror_mode": {
    "name": "ipython",
    "version": 3
   },
   "file_extension": ".py",
   "mimetype": "text/x-python",
   "name": "python",
   "nbconvert_exporter": "python",
   "pygments_lexer": "ipython3",
   "version": "3.7.3"
  }
 },
 "nbformat": 4,
 "nbformat_minor": 2
}
